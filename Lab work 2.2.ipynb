{
 "cells": [
  {
   "cell_type": "markdown",
   "metadata": {},
   "source": [
    "___\n",
    "\n",
    "<a href='https://mainacademy.ua/'> <img src='https://mainacademy.ua/wp-content/uploads/2019/03/logo-main.png' alt = 'Хмм, щось з інтернетом'/></a>\n",
    "___\n",
    "\n",
    "# Module 2: Basic Python"
   ]
  },
  {
   "cell_type": "markdown",
   "metadata": {},
   "source": [
    "## Lab work 2.2\n",
    "\n"
   ]
  },
  {
   "cell_type": "markdown",
   "metadata": {},
   "source": [
    "#### Мета: \n",
    "\n",
    "* навчитися працювати із основними інструкціями Python;\n",
    "* ознайомитися із базовими алгоритмами;"
   ]
  },
  {
   "cell_type": "markdown",
   "metadata": {},
   "source": [
    "### Завдання 1"
   ]
  },
  {
   "cell_type": "markdown",
   "metadata": {},
   "source": [
    "Для трьох введених натуральних чисел (користувач вводить числа через пробіл) знайдіть мінімальне та максимальне"
   ]
  },
  {
   "cell_type": "code",
   "execution_count": 3,
   "metadata": {},
   "outputs": [
    {
     "name": "stdout",
     "output_type": "stream",
     "text": [
      "Введіть три числа через пробіл: f 5 6\n",
      "Ви ввели не числа\n"
     ]
    }
   ],
   "source": [
    "numbers = input('Введіть три числа через пробіл: ')\n",
    "\n",
    "if numbers.isnumeric() is True:\n",
    "    print('мінімальне:',min(numbers.split()))\n",
    "    print('максимальне:',max(numbers.split()))\n",
    "else:\n",
    "    print('Ви ввели не числа')\n",
    "\n"
   ]
  },
  {
   "cell_type": "markdown",
   "metadata": {},
   "source": [
    "### Завдання 2"
   ]
  },
  {
   "cell_type": "markdown",
   "metadata": {},
   "source": [
    "Програма приймає на вхід два параметри: стать спортсмена(`sex = (f, m)`) та вік спортсмена(`age = [0,100]`).  Спортсмен-дівчина може брати участь у змаганні, якщо її вік більший 18, спортсмен-хлопець - якщо вік більший 16\n",
    "\n",
    "Якщо введеніть не коректні дані, виведіть повідомлення про помилку"
   ]
  },
  {
   "cell_type": "markdown",
   "metadata": {},
   "source": [
    "##### Через if, else"
   ]
  },
  {
   "cell_type": "code",
   "execution_count": 5,
   "metadata": {},
   "outputs": [
    {
     "name": "stdout",
     "output_type": "stream",
     "text": [
      "Введіть стать f/m: f\n",
      "Введіть вік: 19\n",
      "Дозволена участь у змаганні\n"
     ]
    }
   ],
   "source": [
    "sex = input('Введіть стать f/m: ')\n",
    "age = float(input('Введіть вік: '))\n",
    "\n",
    "if sex=='f':\n",
    "    if age>18:\n",
    "        print('Дозволена участь у змаганні')\n",
    "    else:\n",
    "        print('Заборонена участь у змаганні')\n",
    "elif sex=='m':\n",
    "    if age>16:\n",
    "        print('Дозволена участь у змаганні')\n",
    "    else:\n",
    "        print('Заборонена участь у змаганні')\n",
    "else:\n",
    "    print('Введені некоректні дані')\n",
    "\n"
   ]
  },
  {
   "cell_type": "markdown",
   "metadata": {},
   "source": [
    "### Завдання 3"
   ]
  },
  {
   "cell_type": "markdown",
   "metadata": {},
   "source": [
    "Для введеного натурального числа побудуйте драбинку. \n",
    "\n",
    "Наприклад, якщо N = 5, драбинка буде мати вигляд:\n",
    "    \n",
    "&\n",
    "\n",
    "&&\n",
    "\n",
    "&&&\n",
    "\n",
    "&&&&\n",
    "\n",
    "&&&&&"
   ]
  },
  {
   "cell_type": "markdown",
   "metadata": {},
   "source": [
    "##### Через for"
   ]
  },
  {
   "cell_type": "code",
   "execution_count": null,
   "metadata": {},
   "outputs": [],
   "source": [
    "try:\n",
    "    N = int(input('Введіть ціле число: '))\n",
    "except ValueError:\n",
    "    print('Неправильне вхідне значення')\n",
    "block='&'\n",
    "\n",
    "for i in range(0, N):\n",
    "    print(block)\n",
    "    block+='&'\n",
    "    "
   ]
  },
  {
   "cell_type": "markdown",
   "metadata": {},
   "source": [
    "##### Через while"
   ]
  },
  {
   "cell_type": "code",
   "execution_count": 1,
   "metadata": {},
   "outputs": [
    {
     "name": "stdout",
     "output_type": "stream",
     "text": [
      "5\n",
      "&\n",
      "&&\n",
      "&&&\n",
      "&&&&\n",
      "&&&&&\n"
     ]
    }
   ],
   "source": [
    "N = int(input())\n",
    "counter=0\n",
    "block='&'\n",
    "\n",
    "while counter<N:\n",
    "    print(block)\n",
    "    block+='&'\n",
    "    counter+=1\n",
    "    "
   ]
  },
  {
   "cell_type": "markdown",
   "metadata": {},
   "source": [
    "### Завдання 4"
   ]
  },
  {
   "cell_type": "markdown",
   "metadata": {},
   "source": [
    "Із заданого речення виведіть кожне слово і його довжину"
   ]
  },
  {
   "cell_type": "code",
   "execution_count": 4,
   "metadata": {},
   "outputs": [
    {
     "name": "stdout",
     "output_type": "stream",
     "text": [
      "My\n",
      "2\n",
      "favourite\n",
      "9\n",
      "tutor\n",
      "5\n",
      "in\n",
      "2\n",
      "academy\n",
      "7\n",
      "is\n",
      "2\n",
      "Ihor\n",
      "4\n"
     ]
    }
   ],
   "source": [
    "sentence = 'My favourite tutor in academy is Ihor'\n",
    "words_li = sentence.split()\n",
    "\n",
    "ind=0\n",
    "for i in words_li:\n",
    "    print(words_li[ind])\n",
    "    print(len(words_li[ind]))\n",
    "    ind+=1\n",
    "    \n",
    "\n",
    "\n",
    "\n"
   ]
  },
  {
   "cell_type": "markdown",
   "metadata": {},
   "source": [
    "### Завдання 5"
   ]
  },
  {
   "cell_type": "markdown",
   "metadata": {},
   "source": [
    "Для заданого тексту реалізуйте:\n",
    "* Знайдіть кількість слів\n",
    "* Знайдіть кількість унікальних слів\n",
    "* Своірть словник, де ключе буде слово із тексту, значенням - частота зустрічання в тексті\n",
    "* Виведіть топ-3 слів, що найчастіше зустрічаються\n",
    "\n",
    "Вважаємо, що слово це стрічка з трьох і більше букв, очищена від знаків пунктуації"
   ]
  },
  {
   "cell_type": "code",
   "execution_count": 5,
   "metadata": {},
   "outputs": [],
   "source": [
    "text = \"\"\"До чого ж гарно і весело було в нашому горóді! Ото як вийти з сіней та подивись навколо — геть-чисто все зелене та буйне. А сад було як зацвіте весною! А що робилось на початку літа — огірки цвітуть, гарбузи цвітуть, картопля цвіте. Цвіте малина, смородина, тютюн, квасоля. А соняшника, а маку, буряків, лободи, укропу, моркви! Чого тільки не насадить наша невгамовна мати.\n",
    "\n",
    "— Нічого в світі так я не люблю, як саджати що-небудь у землю, щоб проізростало. Коли вилізає з землі всяка рослиночка, ото мені радість,— любила проказувати вона.\n",
    "\n",
    "Город до того переповнявсь рослинами, що десь серед літа вони вже не вміщалися в ньому. Вони лізли одна на одну, переплітались, душились, дерлися на хлів, на стріху, повзли на тин, а гарбузи звисали з тину прямо на вулицю.\n",
    "\n",
    "А малини — красної, білої! А вишень, а груш солодких, було. як наїсися,— цілий день живіт як бубон.\n",
    "\n",
    "І росло ще, пригадую, багато тютюну, в якому ми, маленькі, ходили, мов у лісі, в якому пізнали перші мозолі на дитячих руках.\n",
    "\n",
    "А вздовж тину, за старою повіткою, росли великі кущі смородини, бузини і ще якихось невідомих рослин. Там неслися кури нишком од матері і різне дрібне птаство. Туди ми рідко лазили. Там було темно навіть удень, і ми боялись гадюки. Хто з нас у дитинстві не боявся гадюки, так за все життя й не побачивши її ніде?\n",
    "\n",
    "Коло хати, що стояла в саду, цвіли квіти, а за хатою, проти сінешніх дверей, коло вишень,— поросла полином стара погребня з одкритою лядою, звідки завжди пахло цвіллю. Там, у льоху, в присмерку плигали жаби. Напевно, там водилися й гадюки.\n",
    "\n",
    "На погребні любив спати дід.\n",
    "\n",
    "У нас був дід дуже схожий на бога. Коли я молився богу, я завжди бачив на покуті портрет діда в старих срібнофольгових шатах, а сам дід лежав на печі і тихо кашляв, слухаючи своїх молитов.\n",
    "\n",
    "У неділю перед богами горіла маленька синенька лампадка, в яку завжди набиралось повно мух. Образ святого Миколая також був схожий на діда, особливо коли дід часом підстригав собі бороду і випивав перед обідом чарку горілки з перцем, і мати не лаялась. Святий Федосій більш скидався на батька. Федосію я не молився, в нього була ще темна борода, а в руці гирлига, одягнена чомусь у білу хустку. А от бог, схожий на діда, той тримав в одній руці круглу сільничку, а трьома пýчками другої неначе збирався взяти зубок часнику\n",
    "Звали нашого діда, як я вже потім довідавсь, Семеном. Він був високий і худий, і чоло в нього високе, хвилясте довге волосся сиве, а борода біла. І була в нього велика грижа ще з молодих чумацьких літ. Пахнув дід теплою землею і трохи млином. Він був письменний по-церковному і в неділю любив урочисто читати псалтир. Ні дід, ні ми не розуміли прочитаного, і це завжди хвилювало нас, як дивна таємниця, що надавала прочитаному особливого, небуденного смислу.\n",
    "\n",
    "Мати ненавиділа діда і вважала його за чорнокнижника. Ми не вірили матері і захищали діда од її нападів, бо псалтир всередині був не чорний, а білий, а товста шкіряна палітурка — коричнева, як гречаний мед чи стара халява. Зрештою, мати крадькома таки знищила псалтир. Вона спалила його в печі по одному листочку, боячись палити зразу весь, щоб він часом не вибухнув і не розніс печі.\n",
    "\n",
    "Любив дід гарну бесіду й добре слово. Часом по дорозі на луг, коли хто питав у нього дорогу на Борзну чи на Батурин, він довго стояв посеред шляху і, махаючи пужалном, гукав услід подорожньому:\n",
    "\n",
    "— Прямо, та й прямо, та й прямо, та й нікуди ж не звертайте!.. Добра людина поїхала, дай їй бог здоров'я,— зітхав він лагідно, коли подорожній нарешті зникав у кущах.\n",
    "\n",
    "— А хто вона, діду, людина ота? Звідки вона?\n",
    "\n",
    "— А бог її знає, хіба я знаю... Ну, чого стоїш як укопаний? — звертався дід до коня, сідаючи на воза.— Но, трогай-бо, ну...\n",
    "\n",
    "Він був наш добрий дух лугу і риби. Гриби й ягоди збирав він у лісі краще за нас усіх і розмовляв з кіньми, з телятами, з травами, з старою грушею і дубом — з усім живим, що росло і рухалось навколо.\n",
    "Більш за все на світі любив дід сонце. Він прожив під сонцем коло ста літ, ніколи не ховаючись у холодок. Так під сонцем на погребні, коло яблуні, він і помер, коли прийшов його час.\n",
    "\n",
    "Дід любив кашляти. Кашляв він часом так довго й гучно, що скільки ми не старалися, ніхто не міг його як слід передражнити. Його кашель чув увесь куток. Старі люди по дідовому кашлю вгадували навіть погоду.\n",
    "\"\"\"    \n",
    "    "
   ]
  },
  {
   "cell_type": "markdown",
   "metadata": {},
   "source": [
    "### Функція, що очищує строку від знаків пунктуації"
   ]
  },
  {
   "cell_type": "markdown",
   "metadata": {},
   "source": [
    "#### 1-ий спосіб\n",
    "\n",
    "``` \n",
    "def punc_clear(string):\n",
    "    new_list = []\n",
    "    switcher = False\n",
    "    for i in string:\n",
    "        for punc_m in ['_', '-', ',', '!', '?', '.', ':', ';']:\n",
    "            if i == punc_m:\n",
    "                switcher = True\n",
    "                break\n",
    "            else:\n",
    "                i = i.replace(punc_m,'')\n",
    "        if switcher = True:\n",
    "            new_list.append[i]\n",
    "        else:\n",
    "            switcher = False\n",
    "    return new_list ```"
   ]
  },
  {
   "cell_type": "markdown",
   "metadata": {},
   "source": [
    "#### 2-ий спосіб"
   ]
  },
  {
   "cell_type": "markdown",
   "metadata": {},
   "source": [
    "```\n",
    "def punc_clear(element):\n",
    "    if element in [',','.','!','—']:\n",
    "        return True\n",
    "    else:\n",
    "        return False\n",
    "        \n",
    "#ця функція бере елемент і перевіряє чи є він знаком пунктуації, якщо да, повертає - true, якщо ні - false.\n",
    "\n",
    "letter_li=list(filter(punc_clear))\n",
    "text_processed=''\n",
    "text_processed=text_processed.join(text_sliced).lower()\n",
    "```\n",
    "       \n",
    "\n",
    "\n",
    "\n",
    "\n",
    "\n",
    "\n",
    "\n",
    "    \n",
    "    "
   ]
  },
  {
   "cell_type": "markdown",
   "metadata": {},
   "source": [
    "#### 3-ій спосіб"
   ]
  },
  {
   "cell_type": "markdown",
   "metadata": {},
   "source": [
    "через list comprehension"
   ]
  },
  {
   "cell_type": "code",
   "execution_count": 11,
   "metadata": {},
   "outputs": [
    {
     "name": "stdout",
     "output_type": "stream",
     "text": [
      "кількість слів:  537\n",
      "унікальні слова:  354\n"
     ]
    }
   ],
   "source": [
    "#очищуємо від пунктуації, та приводимо всі слова до lowercase, щоб можна було \n",
    "#порахувати справжню к-сть унікальних слів\n",
    "text_sliced=[i for i in text if i not in [',','.','!','—']]\n",
    "text_processed=''\n",
    "text_processed=text_processed.join(text_sliced).lower()\n",
    "words_list=text_processed.split()\n",
    "\n",
    "words_list=[i for i in words_list if len(i)>=3]\n",
    "        \n",
    "\n",
    "print('кількість слів: ', len(words_list))\n",
    "\n",
    "#унікальні слова\n",
    "unique_words=0\n",
    "for i in words_list:  \n",
    "    if words_list.count(i)==1:\n",
    "        unique_words+=1\n",
    "print('унікальні слова: ', unique_words)\n",
    "\n",
    "#словник {слово:частота}\n",
    "text_dict={}\n",
    "for i in words_list:\n",
    "    text_dict.setdefault(i, words_list.count(i))\n",
    "    \n",
    "# копія словника\n",
    "text_dict2=text_dict.copy()\n",
    "\n",
    "dict_values=list(text_dict2.values())\n",
    "dict_values.sort()\n",
    "# print(dict_values)\n",
    "\n",
    "\n",
    "# top3val=[]\n",
    "# for i in range(3):\n",
    "#     x=max(dict_values)\n",
    "# dict_values.remove(x)\n",
    "\n",
    "\n",
    "\n",
    "    \n",
    "    "
   ]
  },
  {
   "cell_type": "code",
   "execution_count": null,
   "metadata": {},
   "outputs": [
    {
     "name": "stdout",
     "output_type": "stream",
     "text": [
      "[1, 1, 1, 1, 2, 2, 2, 3, 3, 4, 4, 5, 7, 7, 7]\n"
     ]
    }
   ],
   "source": [
    "#очистити список лише від 3ьох найбільших значеннь (5,7,9) і зберегти ці значення\n",
    "\n",
    "# xlist=[1,1,1,1,2,2,2,3,3,4,4,5,7,7,7,9,9]\n",
    "\n",
    "# top3values=[]\n",
    "\n",
    "# for i in range(3):\n",
    "#     x = max(xlist)\n",
    "#     out_x = xlist.pop()\n",
    "#     top3values.append(x)\n",
    "#     while x > 0:\n",
    "#         try:\n",
    "#             xlist.remove(x)\n",
    "#             print(xlist)\n",
    "#         except ValueError:\n",
    "#             continue\n",
    "        \n",
    "\n"
   ]
  },
  {
   "cell_type": "markdown",
   "metadata": {},
   "source": [
    "### Завдання 6 "
   ]
  },
  {
   "cell_type": "markdown",
   "metadata": {},
   "source": [
    "Напишіть функції, що:\n",
    "* рохраховує мінімальне та максимальне значення\n",
    "* середнє значення послідовності\n",
    "* медіану послідовності\n",
    "* частоту кожної цифри в послідовності\n",
    "* середнє квадратичне відхилення\n",
    "\n",
    "Послідовність чисел генеруємо рандомно"
   ]
  },
  {
   "cell_type": "code",
   "execution_count": 1,
   "metadata": {},
   "outputs": [
    {
     "name": "stdout",
     "output_type": "stream",
     "text": [
      "максимум:  10\n",
      "мінімум:  3\n",
      "[3, 4, 6, 9, 10]\n",
      "середнє арифметичне: 6.4\n",
      "медіана:  3\n",
      "частота цифри 3 складає 20.0 % \n",
      "частота цифри 4 складає 20.0 % \n",
      "частота цифри 6 складає 20.0 % \n",
      "частота цифри 9 складає 20.0 % \n",
      "частота цифри 10 складає 20.0 % \n",
      "середнє квадратичне відхілення:  2.727636339397171\n"
     ]
    }
   ],
   "source": [
    "import random\n",
    "import math\n",
    "\n",
    "#генеруэмо тисячу чисел в діапазоні від 0 до 10\n",
    "list_with_random_numbers = [random.randint(0,10) for i in range(5)]\n",
    "\n",
    "\n",
    "\n",
    "print('максимум: ', max(list_with_random_numbers))\n",
    "print('мінімум: ',  min(list_with_random_numbers))\n",
    "list_with_random_numbers.sort()\n",
    "print(list_with_random_numbers)\n",
    "\n",
    "#сер.арифм.\n",
    "list_avg = sum(list_with_random_numbers)/len(list_with_random_numbers)\n",
    "print('середнє арифметичне:', list_avg)\n",
    "\n",
    "#медіана\n",
    "oddeven = len(list_with_random_numbers)%2\n",
    "mediana = 0\n",
    "i=(len(list_with_random_numbers)/2)\n",
    "if oddeven == 0: #парне\n",
    "    i=int(i)\n",
    "    mediana = (list_with_random_numbers[i] + list_with_random_numbers[i-1])/2\n",
    "    print('медіана: ', mediana)\n",
    "else:\n",
    "    mediana = math.ceil(i)\n",
    "    print('медіана: ', mediana)\n",
    "    \n",
    "# частота\n",
    "freq_dict={}\n",
    "for i in list_with_random_numbers:\n",
    "    freq_dict.setdefault(i , list_with_random_numbers.count(i))\n",
    "# print(freq_dict)\n",
    "\n",
    "for k in freq_dict:\n",
    "    print(f'частота цифри {k} складає {(freq_dict[k]/len(list_with_random_numbers))*100} % ')\n",
    "    \n",
    "# середнє квадратичне відхілення:\n",
    "dev_sum=0\n",
    "for i in list_with_random_numbers:\n",
    "    dev_sum+=(i-list_avg)**2\n",
    "    \n",
    "standart_dev=math.sqrt(dev_sum/len(list_with_random_numbers))\n",
    "print('середнє квадратичне відхілення: ',standart_dev)\n",
    "    "
   ]
  },
  {
   "cell_type": "code",
   "execution_count": null,
   "metadata": {},
   "outputs": [],
   "source": []
  }
 ],
 "metadata": {
  "kernelspec": {
   "display_name": "Python 3",
   "language": "python",
   "name": "python3"
  },
  "language_info": {
   "codemirror_mode": {
    "name": "ipython",
    "version": 3
   },
   "file_extension": ".py",
   "mimetype": "text/x-python",
   "name": "python",
   "nbconvert_exporter": "python",
   "pygments_lexer": "ipython3",
   "version": "3.8.5"
  }
 },
 "nbformat": 4,
 "nbformat_minor": 2
}
