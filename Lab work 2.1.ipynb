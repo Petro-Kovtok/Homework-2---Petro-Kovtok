{
 "cells": [
  {
   "cell_type": "markdown",
   "metadata": {},
   "source": [
    "___\n",
    "\n",
    "<a href='https://mainacademy.ua/'> <img src='https://mainacademy.ua/wp-content/uploads/2019/03/logo-main.png' alt = 'Хмм, щось з інтернетом'/></a>\n",
    "___\n",
    "\n",
    "# Module 2: Basic Python"
   ]
  },
  {
   "cell_type": "markdown",
   "metadata": {},
   "source": [
    "## Lab work 2.1\n",
    "\n"
   ]
  },
  {
   "cell_type": "markdown",
   "metadata": {},
   "source": [
    "#### Мета: \n",
    "\n",
    "* навчитися працювати із основними типами та структурами даних в Python;\n",
    "* ознайомитися із базовими алгоритмами;"
   ]
  },
  {
   "cell_type": "markdown",
   "metadata": {},
   "source": [
    "#### Завдання 1"
   ]
  },
  {
   "cell_type": "markdown",
   "metadata": {},
   "source": [
    "Обчислити площу трикутника, коли відома сторона та проведена висота до неї"
   ]
  },
  {
   "cell_type": "code",
   "execution_count": 39,
   "metadata": {},
   "outputs": [
    {
     "name": "stdout",
     "output_type": "stream",
     "text": [
      "Довжина сторони трикутника: 2\n",
      "Довжина висоти трикутника: 3\n",
      "Площа трикутника дорівнює:  3.0\n"
     ]
    }
   ],
   "source": [
    "try:\n",
    "    a = int(input('Довжина сторони трикутника: '))\n",
    "    h = int(input('Довжина висоти трикутника: '))\n",
    "except ValueError:\n",
    "    print('Неправильне вхідне значення')\n",
    "\n",
    "    \n",
    "triangS=lambda x,y: x*y*0.5 \n",
    "if a>0 and h>0:\n",
    "    print('Площа трикутника дорівнює: ', triangS(a,h))\n",
    "else:\n",
    "    print('Трикутник не існує')\n",
    "          \n",
    "\n",
    "\n"
   ]
  },
  {
   "cell_type": "markdown",
   "metadata": {},
   "source": [
    "#### Завдання 2"
   ]
  },
  {
   "cell_type": "markdown",
   "metadata": {},
   "source": [
    "Дано трицифрове число. Виведіть окремо кожну цифру числа та суми цифр число\n",
    "\n",
    "Реалізуйте завдання двома способами (використовуючи стрічки та оператори `%`, `//`)"
   ]
  },
  {
   "cell_type": "code",
   "execution_count": 57,
   "metadata": {},
   "outputs": [
    {
     "name": "stdout",
     "output_type": "stream",
     "text": [
      "560\n",
      "Перша цифра: 5 \n",
      "Друга цифра: 6 \n",
      "Третя цифра: 0\n",
      "Сума цифр:  11\n"
     ]
    }
   ],
   "source": [
    "try:\n",
    "    N = input('Введіть трицифрове число:')\n",
    "\n",
    "    if len(N)==3:\n",
    "        print(f\"\"\"Перша цифра: {N[0]} \n",
    "    Друга цифра: {N[1]} \n",
    "    Третя цифра: {N[2]}\"\"\")\n",
    "        print('Сума цифр: ', int(N[0])+int(N[1])+int(N[2]))\n",
    "    else:\n",
    "        print('Число не трицифрове')\n",
    "        \n",
    "except ValueError:\n",
    "    print('Неправильно введені данні')"
   ]
  },
  {
   "cell_type": "code",
   "execution_count": 12,
   "metadata": {},
   "outputs": [
    {
     "name": "stdout",
     "output_type": "stream",
     "text": [
      "Введіть трицифрове число: 729\n",
      "Перша цифра: 7 \n",
      "Друга цифра: 2 \n",
      "Третя цифра: 9\n",
      "Сума цифр:  18\n"
     ]
    }
   ],
   "source": [
    "try:\n",
    "    N = int(input('Введіть трицифрове число: '))\n",
    "\n",
    "    if N>=100 and N<1000:\n",
    "    \n",
    "        digit1=N//100\n",
    "        digit2=(N//10)%10\n",
    "        digit3=N%10\n",
    "    \n",
    "        sum_digit=digit1+digit2+digit3\n",
    "    \n",
    "        print(f\"\"\"Перша цифра: {digit1} \n",
    "    Друга цифра: {digit2} \n",
    "    Третя цифра: {digit3}\"\"\")\n",
    "        print('Сума цифр: ', sum_digit)\n",
    "    \n",
    "    else:\n",
    "        print('Число не трицифрове')\n",
    "except ValueError:\n",
    "    print('Неправильно введені данні')\n",
    "    \n",
    "\n"
   ]
  },
  {
   "cell_type": "markdown",
   "metadata": {},
   "source": [
    "#### Завдання 3"
   ]
  },
  {
   "cell_type": "markdown",
   "metadata": {},
   "source": [
    "Дано речення (стрічка). \n",
    "* Розбийте речення по словах і помістіть їх у список. \n",
    "* Виведіть кількість слів у речені.\n",
    "* Утворіть нове речення, що складається з першого та останнього слова із початкового речення."
   ]
  },
  {
   "cell_type": "code",
   "execution_count": 8,
   "metadata": {},
   "outputs": [],
   "source": [
    "sentence = 'My favourite tutor in academy is Ihor'\n"
   ]
  },
  {
   "cell_type": "code",
   "execution_count": 9,
   "metadata": {},
   "outputs": [
    {
     "name": "stdout",
     "output_type": "stream",
     "text": [
      "['My', 'favourite', 'tutor', 'in', 'academy', 'is', 'Ihor']\n"
     ]
    }
   ],
   "source": [
    "list_with_words= sentence.split()\n",
    "print(list_with_words)"
   ]
  },
  {
   "cell_type": "code",
   "execution_count": 14,
   "metadata": {},
   "outputs": [
    {
     "name": "stdout",
     "output_type": "stream",
     "text": [
      "7 слів у реченні\n"
     ]
    }
   ],
   "source": [
    "print(len(list_with_words), 'слів у реченні') "
   ]
  },
  {
   "cell_type": "code",
   "execution_count": 76,
   "metadata": {},
   "outputs": [
    {
     "name": "stdout",
     "output_type": "stream",
     "text": [
      "Нове речення: My Ihor\n"
     ]
    }
   ],
   "source": [
    "print(f'Нове речення: {list_with_words[0]} {list_with_words[-1]}')"
   ]
  },
  {
   "cell_type": "markdown",
   "metadata": {},
   "source": [
    "#### Завдання 4"
   ]
  },
  {
   "cell_type": "markdown",
   "metadata": {},
   "source": [
    "Перевірте, чи справджується формула: $$ sin^2x + cos^2x = 1$$\n",
    "\n",
    "Напишіть код, що реалізує цю формулу. Нагадую, що тригонометричні функції приймають аргументи в радіанній мірі"
   ]
  },
  {
   "cell_type": "markdown",
   "metadata": {},
   "source": [
    "### проблеми з округленням"
   ]
  },
  {
   "cell_type": "code",
   "execution_count": 33,
   "metadata": {},
   "outputs": [
    {
     "name": "stdout",
     "output_type": "stream",
     "text": [
      "введіть х: dfg\n",
      "Неправильне вхідне значення\n"
     ]
    }
   ],
   "source": [
    "import math\n",
    "\n",
    "try:\n",
    "    x=int(input('введіть х: '))\n",
    "except ValueError:\n",
    "    print('Неправильне вхідне значення')\n",
    "    \n",
    "x = math.radians(x)\n",
    "equat=math.sin(x)**2+math.cos(x)**2\n",
    "\n",
    "print('x in radians = ', x)\n",
    "print('sin(x)^2 = ', math.sin(x))\n",
    "print('cos(x)^2 = ', math.cos(x))\n",
    "print('equat = ', equat)\n",
    "\n",
    "if equat==1:\n",
    "    print('+++ Тотожність виконується')\n",
    "else:\n",
    "    print('--- Тотожність не виконується')\n",
    "\n",
    "    \n",
    "\n"
   ]
  },
  {
   "cell_type": "markdown",
   "metadata": {},
   "source": [
    "### коли через цикл, то проблем з округленням немає"
   ]
  },
  {
   "cell_type": "code",
   "execution_count": 51,
   "metadata": {},
   "outputs": [
    {
     "name": "stdout",
     "output_type": "stream",
     "text": [
      "задайте діапазон для перевірки тотожності:\n",
      "1\n",
      "6\n",
      "x =  1\n",
      "equatation =  1.0\n",
      "+++\n",
      "x =  2\n",
      "equatation =  1.0\n",
      "+++\n",
      "x =  3\n",
      "equatation =  1.0\n",
      "+++\n",
      "x =  4\n",
      "equatation =  1.0\n",
      "+++\n",
      "x =  5\n",
      "equatation =  1.0\n",
      "+++\n",
      "x =  6\n",
      "equatation =  1.0\n",
      "+++\n"
     ]
    }
   ],
   "source": [
    "import math\n",
    "\n",
    "print('задайте діапазон для перевірки тотожності:')\n",
    "point_start=int(input())\n",
    "point_stop=int(input())\n",
    "\n",
    "equat=math.sin(x)**2+math.cos(x)**2\n",
    "\n",
    "for x in range(point_start,point_stop+1):\n",
    "    print('x = ', x)\n",
    "    print('equatation = ', equat)\n",
    "    if equat==1:\n",
    "        print('+++')\n",
    "    else:\n",
    "        print('---')\n",
    "\n"
   ]
  },
  {
   "cell_type": "markdown",
   "metadata": {},
   "source": [
    "#### Завдання 5"
   ]
  },
  {
   "cell_type": "markdown",
   "metadata": {},
   "source": [
    "Напишіть програму для обчислення коренів квадратного рівняння.\n",
    "\n",
    "Нагадую, що `n`-го степеня має `n` коренів. (Корені можуть бути комплексні)"
   ]
  },
  {
   "cell_type": "code",
   "execution_count": 38,
   "metadata": {},
   "outputs": [
    {
     "name": "stdout",
     "output_type": "stream",
     "text": [
      "Введіть коефіцієнти квадратного рівняння\n",
      "a: 2\n",
      "b: 8\n",
      "c: 0\n",
      "Корені квадратного рівняння: х1 = -4.0, x2= 0.0\n"
     ]
    }
   ],
   "source": [
    "import math\n",
    "\n",
    "\n",
    "print('Введіть коефіцієнти квадратного рівняння')\n",
    "\n",
    "try:\n",
    "    a = int(input('a: '))\n",
    "    b = int(input('b: '))\n",
    "    c = int(input('c: '))\n",
    "except ValueError:\n",
    "     print('Неправильне вхідне значення')\n",
    "    \n",
    "    \n",
    "discr= b**2-(4*a*c)\n",
    "\n",
    "if discr>0:\n",
    "    x1=(0-b-math.sqrt(discr))/(2*a)\n",
    "    x2=(0-b+math.sqrt(discr))/(2*a)\n",
    "    print(f'Корені квадратного рівняння: х1 = {x1}, x2= {x2}')\n",
    "elif discr==0:\n",
    "    x=0-(b/(2*a))\n",
    "else:\n",
    "    print('Коренів немає')"
   ]
  },
  {
   "cell_type": "markdown",
   "metadata": {},
   "source": [
    "#### Завдання 6"
   ]
  },
  {
   "cell_type": "markdown",
   "metadata": {},
   "source": [
    "Напишіть програму, що виводить речення: <i>\"Діаметр планети `Planet` дорівнює` Diament`\"</i>, \n",
    "\n",
    "де `Planet` та `Diament` вводить користувач"
   ]
  },
  {
   "cell_type": "markdown",
   "metadata": {},
   "source": [
    "###### 1-ий спосіб"
   ]
  },
  {
   "cell_type": "code",
   "execution_count": 7,
   "metadata": {},
   "outputs": [
    {
     "name": "stdout",
     "output_type": "stream",
     "text": [
      "назва планети: Плутон\n",
      "її діаметр: 156252 км\n",
      "Діаметр планети Плутон дорівнює 156252 км\n"
     ]
    }
   ],
   "source": [
    "planet=input('назва планети: ')\n",
    "diament=input('її діаметр: ')\n",
    "sentence=\"Діаметр планети %s дорівнює %s\"%(planet,diament)\n",
    "print(sentence)"
   ]
  },
  {
   "cell_type": "markdown",
   "metadata": {},
   "source": [
    "###### 2-ий спосіб"
   ]
  },
  {
   "cell_type": "code",
   "execution_count": 8,
   "metadata": {},
   "outputs": [
    {
     "name": "stdout",
     "output_type": "stream",
     "text": [
      "назва планети: Плутон\n",
      "її діаметр: 56594 км\n",
      "Діаметр планети Плутон дорівнює 56594 км\n"
     ]
    }
   ],
   "source": [
    "planet=input('назва планети: ')\n",
    "diament=input('її діаметр: ')\n",
    "print(f'Діаметр планети {planet} дорівнює {diament}')"
   ]
  }
 ],
 "metadata": {
  "kernelspec": {
   "display_name": "Python 3",
   "language": "python",
   "name": "python3"
  },
  "language_info": {
   "codemirror_mode": {
    "name": "ipython",
    "version": 3
   },
   "file_extension": ".py",
   "mimetype": "text/x-python",
   "name": "python",
   "nbconvert_exporter": "python",
   "pygments_lexer": "ipython3",
   "version": "3.8.5"
  }
 },
 "nbformat": 4,
 "nbformat_minor": 2
}
